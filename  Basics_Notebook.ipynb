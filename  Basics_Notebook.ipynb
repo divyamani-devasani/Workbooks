{
 "cells": [
  {
   "cell_type": "markdown",
   "metadata": {},
   "source": [
    "# Python Basics NoteBook"
   ]
  },
  {
   "cell_type": "code",
   "execution_count": 3,
   "metadata": {},
   "outputs": [
    {
     "name": "stdout",
     "output_type": "stream",
     "text": [
      "Python version\n",
      "3.8.5 (default, Sep  3 2020, 21:29:08) [MSC v.1916 64 bit (AMD64)]\n",
      "Version info.\n",
      "sys.version_info(major=3, minor=8, micro=5, releaselevel='final', serial=0)\n"
     ]
    }
   ],
   "source": [
    "#Write a Python code to return your Python version\n",
    "import sys\n",
    "print(\"Python version\")\n",
    "print (sys.version)\n",
    "print(\"Version info.\")\n",
    "print (sys.version_info)\n"
   ]
  },
  {
   "cell_type": "code",
   "execution_count": 4,
   "metadata": {},
   "outputs": [
    {
     "name": "stdout",
     "output_type": "stream",
     "text": [
      "customer id = 513\n"
     ]
    }
   ],
   "source": [
    "#Write a Python code to declare variable id=\"513\". \n",
    "#Print the following statement \"customer id =513\". [Don't use print(\"customer id =513\")]\n",
    "\n",
    "customerid=\"513\"\n",
    "print(\"customer id =\",customerid)\n",
    "\n"
   ]
  },
  {
   "cell_type": "code",
   "execution_count": 34,
   "metadata": {},
   "outputs": [
    {
     "ename": "SyntaxError",
     "evalue": "invalid syntax (<ipython-input-34-720157882996>, line 7)",
     "output_type": "error",
     "traceback": [
      "\u001b[1;36m  File \u001b[1;32m\"<ipython-input-34-720157882996>\"\u001b[1;36m, line \u001b[1;32m7\u001b[0m\n\u001b[1;33m    we can only concatenate strings not integers\u001b[0m\n\u001b[1;37m       ^\u001b[0m\n\u001b[1;31mSyntaxError\u001b[0m\u001b[1;31m:\u001b[0m invalid syntax\n"
     ]
    }
   ],
   "source": [
    "#Run the following statement, why there is an error\n",
    "id=\"513\"\n",
    "id=id+1\n",
    "print(id)\n",
    "\n",
    "\n",
    "we can only concatenate strings not integers"
   ]
  },
  {
   "cell_type": "code",
   "execution_count": 6,
   "metadata": {},
   "outputs": [
    {
     "name": "stdout",
     "output_type": "stream",
     "text": [
      "new_id= 5\n"
     ]
    }
   ],
   "source": [
    "#Convert the variable id into an integer, increment it by 1.\n",
    "#Assign the result to variable new_id.\n",
    "#Print the new_id\n",
    "\n",
    "id=4.5\n",
    "id1=int(id)\n",
    "new_id=id1+1\n",
    "print(\"new_id=\",new_id)\n",
    "\n"
   ]
  },
  {
   "cell_type": "code",
   "execution_count": 51,
   "metadata": {},
   "outputs": [
    {
     "name": "stdout",
     "output_type": "stream",
     "text": [
      " Twinkle ,twinkle,little star \n",
      "     How I wonder what you are! \n",
      "        Up above the world so high \n",
      "            like a diamond in the sky\n"
     ]
    }
   ],
   "source": [
    "#Write a Python code to print the following string in a specific format (see the output). \n",
    "\n",
    "# Twinkle, twinkle, little star, \n",
    "#     How I wonder what you are! \n",
    "#        Up above the world so high, \n",
    "#            Like a diamond in the sky.\n",
    "string1= \" Twinkle ,twinkle,little star \\n     How I wonder what you are! \\n        Up above the world so high \\n            like a diamond in the sky\"\n",
    "print(string1)\n",
    "\n",
    "\n",
    "\n",
    "\n"
   ]
  },
  {
   "cell_type": "code",
   "execution_count": 41,
   "metadata": {},
   "outputs": [
    {
     "name": "stdout",
     "output_type": "stream",
     "text": [
      "first element in the string is: P\n"
     ]
    }
   ],
   "source": [
    "#Givin the following string variable, # Print the first element in the string\n",
    "\n",
    "course=\"Python for Data Science\"\n",
    "\n",
    "print(\"first element in the string is:\",course[0])"
   ]
  },
  {
   "cell_type": "code",
   "execution_count": 19,
   "metadata": {},
   "outputs": [
    {
     "name": "stdout",
     "output_type": "stream",
     "text": [
      "element on the 13th index in the string: t\n"
     ]
    }
   ],
   "source": [
    "# Print the element on the 13th index in the string\n",
    "print(\"element on the 13th index in the string:\",course[13])"
   ]
  },
  {
   "cell_type": "code",
   "execution_count": 20,
   "metadata": {},
   "outputs": [
    {
     "name": "stdout",
     "output_type": "stream",
     "text": [
      "length of string is: 23\n"
     ]
    }
   ],
   "source": [
    "# Find the length of string\n",
    "len(course)\n",
    "print(\"length of string is:\",len(course))"
   ]
  },
  {
   "cell_type": "code",
   "execution_count": 21,
   "metadata": {},
   "outputs": [
    {
     "name": "stdout",
     "output_type": "stream",
     "text": [
      "last element in the string is: e\n"
     ]
    }
   ],
   "source": [
    "# Print the last element in the string [use negative index]\n",
    "course[-1]\n",
    "print(\"last element in the string is:\",course[-1])"
   ]
  },
  {
   "cell_type": "code",
   "execution_count": 22,
   "metadata": {},
   "outputs": [
    {
     "name": "stdout",
     "output_type": "stream",
     "text": [
      "Data\n"
     ]
    }
   ],
   "source": [
    "# Take the slice on variable course with only index 11 to index 14\n",
    "course[11:15] \n",
    "print(course[11:15])"
   ]
  },
  {
   "cell_type": "code",
   "execution_count": 23,
   "metadata": {},
   "outputs": [
    {
     "data": {
      "text/plain": [
       "'Ph ra i'"
      ]
     },
     "execution_count": 23,
     "metadata": {},
     "output_type": "execute_result"
    }
   ],
   "source": [
    "# Get every third element in the range from index 0 to index 20\n",
    "course[0:20:3]"
   ]
  },
  {
   "cell_type": "code",
   "execution_count": 28,
   "metadata": {},
   "outputs": [
    {
     "name": "stdout",
     "output_type": "stream",
     "text": [
      "Python for Data Science AI & Development\n"
     ]
    }
   ],
   "source": [
    "# Concatenate course string with \", AI & Development\"\n",
    "string2 = course + \" AI & Development\"\n",
    "print(string2)\n"
   ]
  },
  {
   "cell_type": "code",
   "execution_count": 29,
   "metadata": {},
   "outputs": [
    {
     "name": "stdout",
     "output_type": "stream",
     "text": [
      "Python_for_Data_Science_AI_&_Development\n"
     ]
    }
   ],
   "source": [
    "# Replace all the spaces with (_). New string should looks like\"Python_for_Data_Science,_AI_&_Development\"\n",
    "string3=string2.replace(\" \",\"_\")\n",
    "print(string3)"
   ]
  },
  {
   "cell_type": "code",
   "execution_count": 30,
   "metadata": {},
   "outputs": [
    {
     "name": "stdout",
     "output_type": "stream",
     "text": [
      "PYTHON_FOR_DATA_SCIENCE_AI_&_DEVELOPMENT\n"
     ]
    }
   ],
   "source": [
    "# Convert all the characters in string to upper case\n",
    "string4=string3.upper()\n",
    "print(string4)"
   ]
  },
  {
   "cell_type": "code",
   "execution_count": null,
   "metadata": {},
   "outputs": [],
   "source": []
  }
 ],
 "metadata": {
  "kernelspec": {
   "display_name": "Python 3",
   "language": "python",
   "name": "python3"
  },
  "language_info": {
   "codemirror_mode": {
    "name": "ipython",
    "version": 3
   },
   "file_extension": ".py",
   "mimetype": "text/x-python",
   "name": "python",
   "nbconvert_exporter": "python",
   "pygments_lexer": "ipython3",
   "version": "3.8.5"
  }
 },
 "nbformat": 4,
 "nbformat_minor": 4
}
