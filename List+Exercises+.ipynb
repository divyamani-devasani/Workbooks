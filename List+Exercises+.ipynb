{
 "cells": [
  {
   "cell_type": "code",
   "execution_count": 6,
   "metadata": {},
   "outputs": [
    {
     "data": {
      "text/plain": [
       "('Adam',\n",
       " 'Ajinkya',\n",
       " 'Akash',\n",
       " 'Alka',\n",
       " 'Chloe',\n",
       " 'Dami',\n",
       " 'Divya',\n",
       " 'Edward',\n",
       " 'Gaurav',\n",
       " 'Gilmara',\n",
       " 'Imara',\n",
       " 'Jainam',\n",
       " 'Leul',\n",
       " 'Mehrnaz',\n",
       " 'Muhammad',\n",
       " 'Olaolusubomi',\n",
       " 'Pray',\n",
       " 'Rasha',\n",
       " 'Riley',\n",
       " 'Romita',\n",
       " 'Salone',\n",
       " 'Saman',\n",
       " 'Santhiya',\n",
       " 'Sidney',\n",
       " 'Sowjanya',\n",
       " 'Suganya',\n",
       " 'Sunint',\n",
       " 'Temitope',\n",
       " 'Tony',\n",
       " 'Ulan',\n",
       " 'Winnie',\n",
       " 'Jerry')"
      ]
     },
     "execution_count": 6,
     "metadata": {},
     "output_type": "execute_result"
    }
   ],
   "source": [
    "#Q1 Create a tuple with all participant names in the JDA program\n",
    "tuple1 = ('Adam','Ajinkya','Akash','Alka','Chloe','Dami','Divya','Edward','Gaurav','Gilmara','Imara',\n",
    "        'Jainam','Leul','Mehrnaz','Muhammad','Olaolusubomi','Pray','Rasha','Riley','Romita','Salone',\n",
    "        'Saman','Santhiya','Sidney','Sowjanya','Suganya','Sunint','Temitope','Tony','Ulan','Winnie',\n",
    "        'Jerry')\n",
    "tuple1"
   ]
  },
  {
   "cell_type": "code",
   "execution_count": 9,
   "metadata": {},
   "outputs": [
    {
     "data": {
      "text/plain": [
       "['Adam',\n",
       " 'Ajinkya',\n",
       " 'Akash',\n",
       " 'Alka',\n",
       " 'Chloe',\n",
       " 'Dami',\n",
       " 'Divya',\n",
       " 'Edward',\n",
       " 'Gaurav',\n",
       " 'Gilmara',\n",
       " 'Imara',\n",
       " 'Jainam',\n",
       " 'Leul',\n",
       " 'Mehrnaz',\n",
       " 'Muhammad',\n",
       " 'Olaolusubomi',\n",
       " 'Pray',\n",
       " 'Rasha',\n",
       " 'Riley',\n",
       " 'Romita',\n",
       " 'Salone',\n",
       " 'Saman',\n",
       " 'Santhiya',\n",
       " 'Sidney',\n",
       " 'Sowjanya',\n",
       " 'Suganya',\n",
       " 'Sunint',\n",
       " 'Temitope',\n",
       " 'Tony',\n",
       " 'Ulan',\n",
       " 'Winnie',\n",
       " 'Jerry']"
      ]
     },
     "execution_count": 9,
     "metadata": {},
     "output_type": "execute_result"
    }
   ],
   "source": [
    "#Q2 Convert the tuple into a list called pps_L\n",
    "pps_L = list(tuple1)\n",
    "pps_L"
   ]
  },
  {
   "cell_type": "code",
   "execution_count": 10,
   "metadata": {},
   "outputs": [
    {
     "data": {
      "text/plain": [
       "32"
      ]
     },
     "execution_count": 10,
     "metadata": {},
     "output_type": "execute_result"
    }
   ],
   "source": [
    "#Q3 What is the length of your list \n",
    "len(pps_L)"
   ]
  },
  {
   "cell_type": "code",
   "execution_count": 19,
   "metadata": {},
   "outputs": [
    {
     "name": "stdout",
     "output_type": "stream",
     "text": [
      "Alka Dami Muhammad Winnie Jerry\n"
     ]
    }
   ],
   "source": [
    "#Q4 Find the values stored in indexes [3],[5],[14],[30],[38]\n",
    "\n",
    "print(pps_L[3],pps_L[5],pps_L[14],pps_L[30],pps_L[31])"
   ]
  },
  {
   "cell_type": "code",
   "execution_count": 20,
   "metadata": {},
   "outputs": [
    {
     "data": {
      "text/plain": [
       "False"
      ]
     },
     "execution_count": 20,
     "metadata": {},
     "output_type": "execute_result"
    }
   ],
   "source": [
    "#Q5 Check if \"Sarah\" is in the list\n",
    "\"Sarah\" in pps_L"
   ]
  },
  {
   "cell_type": "code",
   "execution_count": 68,
   "metadata": {},
   "outputs": [
    {
     "data": {
      "text/plain": [
       "['Ajinkya',\n",
       " 'Akash',\n",
       " 'Alka',\n",
       " 'Chloe',\n",
       " 'Dami',\n",
       " 'Divya',\n",
       " 'Edward',\n",
       " 'Gaurav',\n",
       " 'Gilmara',\n",
       " 'Instructor',\n",
       " 'Jainam',\n",
       " 'Leul',\n",
       " 'Mehrnaz',\n",
       " 'Muhammad',\n",
       " 'Olaolusubomi',\n",
       " 'Pray',\n",
       " 'Rasha',\n",
       " 'Riley',\n",
       " 'Romita',\n",
       " 'Salone',\n",
       " 'Saman',\n",
       " 'Santhiya',\n",
       " 'Sidney',\n",
       " 'Sowjanya',\n",
       " 'Suganya',\n",
       " 'Sunint',\n",
       " 'Temitope',\n",
       " 'Tony',\n",
       " 'Ulan',\n",
       " 'Winnie',\n",
       " 'Jerry',\n",
       " 'Instructor',\n",
       " 'Bashir',\n",
       " 'Peer-Mentor',\n",
       " 'Sarah',\n",
       " 'Sarah',\n",
       " 'Sarah',\n",
       " 'Sarah',\n",
       " 'Sarah']"
      ]
     },
     "execution_count": 68,
     "metadata": {},
     "output_type": "execute_result"
    }
   ],
   "source": [
    "#Q6 Add \"Sarah\" to your list\n",
    "pps_L.append(\"Sarah\")\n",
    "pps_L.remove(\"Sarah\")\n",
    "pps_L"
   ]
  },
  {
   "cell_type": "code",
   "execution_count": 69,
   "metadata": {},
   "outputs": [
    {
     "data": {
      "text/plain": [
       "True"
      ]
     },
     "execution_count": 69,
     "metadata": {},
     "output_type": "execute_result"
    }
   ],
   "source": [
    "#Q7 Check if \"Bashir\" is in the list\n",
    "\n",
    "\"Bashir\" in pps_L"
   ]
  },
  {
   "cell_type": "code",
   "execution_count": 37,
   "metadata": {},
   "outputs": [
    {
     "data": {
      "text/plain": [
       "['Adam',\n",
       " 'Ajinkya',\n",
       " 'Akash',\n",
       " 'Alka',\n",
       " 'Chloe',\n",
       " 'Dami',\n",
       " 'Divya',\n",
       " 'Edward',\n",
       " 'Gaurav',\n",
       " 'Gilmara',\n",
       " 'Imara',\n",
       " 'Jainam',\n",
       " 'Leul',\n",
       " 'Mehrnaz',\n",
       " 'Muhammad',\n",
       " 'Olaolusubomi',\n",
       " 'Pray',\n",
       " 'Rasha',\n",
       " 'Riley',\n",
       " 'Romita',\n",
       " 'Salone',\n",
       " 'Saman',\n",
       " 'Santhiya',\n",
       " 'Sidney',\n",
       " 'Sowjanya',\n",
       " 'Suganya',\n",
       " 'Sunint',\n",
       " 'Temitope',\n",
       " 'Tony',\n",
       " 'Ulan',\n",
       " 'Winnie',\n",
       " 'Jerry',\n",
       " 'Sarah',\n",
       " 'Sarah',\n",
       " 'Sarah',\n",
       " 'Sarah',\n",
       " 'Bashir']"
      ]
     },
     "execution_count": 37,
     "metadata": {},
     "output_type": "execute_result"
    }
   ],
   "source": [
    "#Q9 Add \"Bashir\" to your list\n",
    "pps_L.append(\"Bashir\")\n",
    "pps_L"
   ]
  },
  {
   "cell_type": "code",
   "execution_count": 38,
   "metadata": {},
   "outputs": [
    {
     "data": {
      "text/plain": [
       "32"
      ]
     },
     "execution_count": 38,
     "metadata": {},
     "output_type": "execute_result"
    }
   ],
   "source": [
    "#Q10 Find the index of the element \"Sarah\" in the list\n",
    "pps_L.index(\"Sarah\")"
   ]
  },
  {
   "cell_type": "code",
   "execution_count": 45,
   "metadata": {},
   "outputs": [
    {
     "data": {
      "text/plain": [
       "['Adam',\n",
       " 'Ajinkya',\n",
       " 'Akash',\n",
       " 'Alka',\n",
       " 'Chloe',\n",
       " 'Dami',\n",
       " 'Divya',\n",
       " 'Edward',\n",
       " 'Gaurav',\n",
       " 'Gilmara',\n",
       " 'Instructor',\n",
       " 'Jainam',\n",
       " 'Leul',\n",
       " 'Mehrnaz',\n",
       " 'Muhammad',\n",
       " 'Olaolusubomi',\n",
       " 'Pray',\n",
       " 'Rasha',\n",
       " 'Riley',\n",
       " 'Romita',\n",
       " 'Salone',\n",
       " 'Saman',\n",
       " 'Santhiya',\n",
       " 'Sidney',\n",
       " 'Sowjanya',\n",
       " 'Suganya',\n",
       " 'Sunint',\n",
       " 'Temitope',\n",
       " 'Tony',\n",
       " 'Ulan',\n",
       " 'Winnie',\n",
       " 'Jerry',\n",
       " 'Instructor',\n",
       " 'Sarah',\n",
       " 'Sarah',\n",
       " 'Bashir',\n",
       " 'Sarah',\n",
       " 'Sarah']"
      ]
     },
     "execution_count": 45,
     "metadata": {},
     "output_type": "execute_result"
    }
   ],
   "source": [
    "#Q11 Change the value of the index in Q10 from \"Sarah\" to \"Instructor\"\n",
    "\n",
    "pps_L[32]=\"Instructor\"\n",
    "pps_L\n"
   ]
  },
  {
   "cell_type": "code",
   "execution_count": 39,
   "metadata": {},
   "outputs": [
    {
     "data": {
      "text/plain": [
       "36"
      ]
     },
     "execution_count": 39,
     "metadata": {},
     "output_type": "execute_result"
    }
   ],
   "source": [
    "#Q12 Find the index of the element \"Bashir\" in the list\n",
    "pps_L.index(\"Bashir\")"
   ]
  },
  {
   "cell_type": "code",
   "execution_count": 48,
   "metadata": {
    "scrolled": true
   },
   "outputs": [
    {
     "data": {
      "text/plain": [
       "['Adam',\n",
       " 'Ajinkya',\n",
       " 'Akash',\n",
       " 'Alka',\n",
       " 'Chloe',\n",
       " 'Dami',\n",
       " 'Divya',\n",
       " 'Edward',\n",
       " 'Gaurav',\n",
       " 'Gilmara',\n",
       " 'Instructor',\n",
       " 'Jainam',\n",
       " 'Leul',\n",
       " 'Mehrnaz',\n",
       " 'Muhammad',\n",
       " 'Olaolusubomi',\n",
       " 'Pray',\n",
       " 'Rasha',\n",
       " 'Riley',\n",
       " 'Romita',\n",
       " 'Salone',\n",
       " 'Saman',\n",
       " 'Santhiya',\n",
       " 'Sidney',\n",
       " 'Sowjanya',\n",
       " 'Suganya',\n",
       " 'Sunint',\n",
       " 'Temitope',\n",
       " 'Tony',\n",
       " 'Ulan',\n",
       " 'Winnie',\n",
       " 'Jerry',\n",
       " 'Instructor',\n",
       " 'Sarah',\n",
       " 'Sarah',\n",
       " 'Bashir',\n",
       " 'Peer-Mentor',\n",
       " 'Sarah']"
      ]
     },
     "execution_count": 48,
     "metadata": {},
     "output_type": "execute_result"
    }
   ],
   "source": [
    "#Q13 Change the value of the index in Q12 from \"Bashir\" to \"Peer-Mentor\"\\\n",
    "pps_L[36]=\"Peer-Mentor\"\n",
    "pps_L\n"
   ]
  },
  {
   "cell_type": "code",
   "execution_count": null,
   "metadata": {},
   "outputs": [],
   "source": []
  }
 ],
 "metadata": {
  "kernelspec": {
   "display_name": "Python 3",
   "language": "python",
   "name": "python3"
  },
  "language_info": {
   "codemirror_mode": {
    "name": "ipython",
    "version": 3
   },
   "file_extension": ".py",
   "mimetype": "text/x-python",
   "name": "python",
   "nbconvert_exporter": "python",
   "pygments_lexer": "ipython3",
   "version": "3.8.5"
  }
 },
 "nbformat": 4,
 "nbformat_minor": 4
}
