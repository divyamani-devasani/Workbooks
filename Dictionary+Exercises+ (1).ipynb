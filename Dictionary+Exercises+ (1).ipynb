{
 "cells": [
  {
   "cell_type": "code",
   "execution_count": 2,
   "metadata": {},
   "outputs": [
    {
     "data": {
      "text/plain": [
       "{'l': 'Leul',\n",
       " 'J': ('Jerry', 'Jainam'),\n",
       " 'R': ('Riley', 'Romita', 'Roshan'),\n",
       " 'I': 'Imara',\n",
       " 'C': 'Chloe',\n",
       " 'A': ('Adam', 'Akash', 'Ajinkya'),\n",
       " 'M': ('Mohammad', 'Mehrnaz')}"
      ]
     },
     "execution_count": 2,
     "metadata": {},
     "output_type": "execute_result"
    }
   ],
   "source": [
    "#Q1 Create a dictionary for all participants in the JDA program.\n",
    "#Keys should be the first letter in their names, Values should be their names.\n",
    "#[Hint] dic={\"l\":(Leul),\"J\":(Jerry,Jainam)........}\n",
    "dicJDA={\"l\":(\"Leul\"),\"J\":(\"Jerry\",\"Jainam\"),\"R\":(\"Riley\",\"Romita\",\"Roshan\"),\"I\":(\"Imara\"),\"C\":(\"Chloe\"),\n",
    "        \"A\":(\"Adam\",\"Akash\",\"Ajinkya\"),\"M\":(\"Mohammad\",\"Mehrnaz\")}\n",
    "dicJDA\n"
   ]
  },
  {
   "cell_type": "code",
   "execution_count": 3,
   "metadata": {},
   "outputs": [
    {
     "data": {
      "text/plain": [
       "dict_keys(['l', 'J', 'R', 'I', 'C', 'A', 'M'])"
      ]
     },
     "execution_count": 3,
     "metadata": {},
     "output_type": "execute_result"
    }
   ],
   "source": [
    "#Q2 What are the keys of your dictionary\n",
    "dicJDA.keys()"
   ]
  },
  {
   "cell_type": "code",
   "execution_count": 4,
   "metadata": {},
   "outputs": [
    {
     "data": {
      "text/plain": [
       "dict_values(['Leul', ('Jerry', 'Jainam'), ('Riley', 'Romita', 'Roshan'), 'Imara', 'Chloe', ('Adam', 'Akash', 'Ajinkya'), ('Mohammad', 'Mehrnaz')])"
      ]
     },
     "execution_count": 4,
     "metadata": {},
     "output_type": "execute_result"
    }
   ],
   "source": [
    "#Q3 What are the values of your dictionary\n",
    "dicJDA.values()\n"
   ]
  },
  {
   "cell_type": "code",
   "execution_count": 6,
   "metadata": {},
   "outputs": [
    {
     "name": "stdout",
     "output_type": "stream",
     "text": [
      "('Jerry', 'Jainam') Imara ('Mohammad', 'Mehrnaz') Chloe ('Adam', 'Akash', 'Ajinkya')\n"
     ]
    }
   ],
   "source": [
    "#Q4 Find participant's names that start with J,I,M,C,A\n",
    "print(dicJDA[\"J\"],dicJDA[\"I\"],dicJDA[\"M\"],dicJDA[\"C\"],dicJDA[\"A\"])"
   ]
  },
  {
   "cell_type": "code",
   "execution_count": 9,
   "metadata": {},
   "outputs": [
    {
     "data": {
      "text/plain": [
       "{'l': 'Leul',\n",
       " 'J': ('Jerry', 'Jainam'),\n",
       " 'R': ('Riley', 'Romita', 'Roshan'),\n",
       " 'I': 'Imara',\n",
       " 'C': 'Chloe',\n",
       " 'A': ('Adam', 'Akash', 'Ajinkya'),\n",
       " 'M': ('Mohammad', 'Mehrnaz'),\n",
       " 'K,PD': 'Kristina'}"
      ]
     },
     "execution_count": 9,
     "metadata": {},
     "output_type": "execute_result"
    }
   ],
   "source": [
    "#Q5 Add the following to your dictionary \n",
    "# Key<(K,PD)>, Value<(Kristina)>\n",
    "dicJDA[(\"K,PD\")]=\"Kristina\"\n",
    "dicJDA"
   ]
  },
  {
   "cell_type": "code",
   "execution_count": 10,
   "metadata": {},
   "outputs": [
    {
     "data": {
      "text/plain": [
       "8"
      ]
     },
     "execution_count": 10,
     "metadata": {},
     "output_type": "execute_result"
    }
   ],
   "source": [
    "#Q6 Find the length of your dictionary  \n",
    "len(dicJDA)"
   ]
  },
  {
   "cell_type": "code",
   "execution_count": 12,
   "metadata": {},
   "outputs": [
    {
     "data": {
      "text/plain": [
       "{'l': 'Leul',\n",
       " 'J': ('Jerry', 'Jainam'),\n",
       " 'R': ('Riley', 'Romita', 'Roshan'),\n",
       " 'I': 'Imara',\n",
       " 'C': 'Chloe',\n",
       " 'A': ('Adam', 'Akash', 'Ajinkya'),\n",
       " 'M': ('Mohammad', 'Mehrnaz'),\n",
       " 'K,PD': 'Kristina',\n",
       " 'S,Instructor': 'Sarah'}"
      ]
     },
     "execution_count": 12,
     "metadata": {},
     "output_type": "execute_result"
    }
   ],
   "source": [
    "#Q7 Add the following to your dictionary \n",
    "# Key<(S,Instructor)>, Value<(Sarah)>\n",
    "dicJDA[(\"S,Instructor\")]=\"Sarah\"\n",
    "dicJDA"
   ]
  },
  {
   "cell_type": "code",
   "execution_count": 13,
   "metadata": {},
   "outputs": [
    {
     "data": {
      "text/plain": [
       "9"
      ]
     },
     "execution_count": 13,
     "metadata": {},
     "output_type": "execute_result"
    }
   ],
   "source": [
    "#Q8 Find the length of your dictionary  \n",
    "len(dicJDA)"
   ]
  },
  {
   "cell_type": "code",
   "execution_count": 19,
   "metadata": {},
   "outputs": [
    {
     "data": {
      "text/plain": [
       "{'l': 'Leul',\n",
       " 'R': ('Riley', 'Romita', 'Roshan'),\n",
       " 'I': 'Imara',\n",
       " 'C': 'Chloe',\n",
       " 'A': ('Adam', 'Akash', 'Ajinkya'),\n",
       " 'M': ('Mohammad', 'Mehrnaz'),\n",
       " 'K,PD': 'Kristina'}"
      ]
     },
     "execution_count": 19,
     "metadata": {},
     "output_type": "execute_result"
    }
   ],
   "source": [
    "#Q7 Delete the following keys from your dictionary \n",
    "#Key<(S,Instructor)>\n",
    "#Key<J>\n",
    "del dicJDA[(\"S,Instructor\")]\n",
    "del dicJDA[\"J\"]\n",
    "dicJDA"
   ]
  },
  {
   "cell_type": "code",
   "execution_count": 20,
   "metadata": {},
   "outputs": [
    {
     "data": {
      "text/plain": [
       "7"
      ]
     },
     "execution_count": 20,
     "metadata": {},
     "output_type": "execute_result"
    }
   ],
   "source": [
    "#Q9 Find the length of your dictionary  \n",
    "len(dicJDA)"
   ]
  },
  {
   "cell_type": "code",
   "execution_count": 22,
   "metadata": {},
   "outputs": [],
   "source": [
    "#Q10 Create a new dictionary called synonyms_dic\n",
    "synonyms_dic={}"
   ]
  },
  {
   "cell_type": "code",
   "execution_count": 23,
   "metadata": {},
   "outputs": [
    {
     "data": {
      "text/plain": [
       "{'Bad': 'Worse',\n",
       " 'Good': 'Great',\n",
       " 'Awesome': 'Excellent',\n",
       " 'Cold': 'Chill',\n",
       " 'Easy': 'Simple',\n",
       " 'Hard': 'Tough',\n",
       " 'Big': 'Large',\n",
       " 'Small': 'tiny'}"
      ]
     },
     "execution_count": 23,
     "metadata": {},
     "output_type": "execute_result"
    }
   ],
   "source": [
    "#Q11 Add the synonyms of the following words to your dictionary \n",
    "#Bad, Good, Awesome, Cold, Easy, Hard, Big, Small\n",
    "synonyms_dic={\"Bad\":\"Worse\",\n",
    "              \"Good\":\"Great\",\n",
    "              \"Awesome\":\"Excellent\",\n",
    "              \"Cold\":\"Chill\",\n",
    "              \"Easy\":\"Simple\",\n",
    "              \"Hard\":\"Tough\",\n",
    "             \"Big\":\"Large\",\n",
    "             \"Small\":\"tiny\"}\n",
    "synonyms_dic"
   ]
  },
  {
   "cell_type": "code",
   "execution_count": 27,
   "metadata": {},
   "outputs": [
    {
     "name": "stdout",
     "output_type": "stream",
     "text": [
      "Excellent Simple tiny Chill\n"
     ]
    }
   ],
   "source": [
    "#Q12 Use your dictionary to find the synonym of the following words \n",
    "# Awesome, Easy, Small, Old\n",
    "print(synonyms_dic[\"Awesome\"],synonyms_dic[\"Easy\"],synonyms_dic[\"Small\"],synonyms_dic[\"Cold\"])"
   ]
  },
  {
   "cell_type": "code",
   "execution_count": 29,
   "metadata": {},
   "outputs": [
    {
     "data": {
      "text/plain": [
       "{}"
      ]
     },
     "execution_count": 29,
     "metadata": {},
     "output_type": "execute_result"
    }
   ],
   "source": [
    "#Q13 Delete everything from synonyms_dic\n",
    "synonyms_dic.clear()\n",
    "synonyms_dic"
   ]
  },
  {
   "cell_type": "code",
   "execution_count": 30,
   "metadata": {},
   "outputs": [
    {
     "data": {
      "text/plain": [
       "{}"
      ]
     },
     "execution_count": 30,
     "metadata": {},
     "output_type": "execute_result"
    }
   ],
   "source": [
    "#Q14 Print all values in synonyms_dic\n",
    "synonyms_dic"
   ]
  },
  {
   "cell_type": "code",
   "execution_count": 31,
   "metadata": {},
   "outputs": [
    {
     "data": {
      "text/plain": [
       "{'True': 1, 'False': 0}"
      ]
     },
     "execution_count": 31,
     "metadata": {},
     "output_type": "execute_result"
    }
   ],
   "source": [
    "#Q15 Convert the below two lists into dictionary\n",
    "Keys=[\"True\",\"False\"]\n",
    "Values=[1,0]\n",
    "dict123={Keys[0]:Values[0],Keys[1]:Values[1]}\n",
    "dict123"
   ]
  },
  {
   "cell_type": "code",
   "execution_count": 32,
   "metadata": {},
   "outputs": [
    {
     "data": {
      "text/plain": [
       "4480"
      ]
     },
     "execution_count": 32,
     "metadata": {},
     "output_type": "execute_result"
    }
   ],
   "source": [
    "#Q16 Sum all the values in the following dictionary\n",
    "income={'Jan':1000,'Feb':1500,'Mar':980,'April':1000}\n",
    "sum(income.values())"
   ]
  },
  {
   "cell_type": "code",
   "execution_count": 54,
   "metadata": {},
   "outputs": [
    {
     "name": "stdout",
     "output_type": "stream",
     "text": [
      "['110', '101', '10', '1011', '110', '1001', '111', '1101']\n",
      "The new string is:  I am hungry , I want to eat\n"
     ]
    }
   ],
   "source": [
    "#Q17 Create the following dictionary encryption={10:\"hungry\", 101:\"am\", 110:\"I\", 1011:\",\" ,1101:\"eat\", 1001:\"want\",\n",
    "#111:\"to\"}\n",
    "# What should the the decryption of the following code \"110 101 10 1011 110 1001 111 1101\"\n",
    "\n",
    "\n",
    "encryption = {10:\"hungry\",101:\"am\",110:\"I\",1011:\",\",1101:\"eat\",1001:\"want\",111:\"to\"}\n",
    "decryption = \"110 101 10 1011 110 1001 111 1101\"\n",
    "splitfunction = decryption.split(' ')\n",
    "print(splitfunction)\n",
    "\n",
    "\n",
    "newstring = \"\"\n",
    "for i in splitfunction:\n",
    "     newstring = newstring + \" \" + encryption[int(i)]\n",
    "   \n",
    "print(\"The new string is:\", newstring)\n",
    "    \n",
    "\n",
    "\n",
    "\n",
    "\n",
    "\n",
    "\n"
   ]
  },
  {
   "cell_type": "code",
   "execution_count": null,
   "metadata": {},
   "outputs": [],
   "source": []
  },
  {
   "cell_type": "code",
   "execution_count": null,
   "metadata": {},
   "outputs": [],
   "source": []
  }
 ],
 "metadata": {
  "kernelspec": {
   "display_name": "Python 3",
   "language": "python",
   "name": "python3"
  },
  "language_info": {
   "codemirror_mode": {
    "name": "ipython",
    "version": 3
   },
   "file_extension": ".py",
   "mimetype": "text/x-python",
   "name": "python",
   "nbconvert_exporter": "python",
   "pygments_lexer": "ipython3",
   "version": "3.8.5"
  }
 },
 "nbformat": 4,
 "nbformat_minor": 4
}
